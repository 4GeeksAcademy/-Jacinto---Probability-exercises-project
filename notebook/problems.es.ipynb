{
 "cells": [
  {
   "cell_type": "markdown",
   "id": "a41f3622",
   "metadata": {},
   "source": [
    "# Ejercicios de probabilidad"
   ]
  },
  {
   "cell_type": "markdown",
   "id": "a6bdbd89",
   "metadata": {},
   "source": [
    "## Ejercicio 1 \n",
    "\n",
    "Dos dados se lanzan una vez y se observa el total obtenido. Usa una simulación para encontrar la probabilidad estimada de que la puntuación sea mayor a 7 o un número par. Una simulación es una repetición del mismo experimento multiples veces para observar su comportamiento:\n",
    "\n",
    "- Ejecuta el experimento 1000 veces (lanza 2 dados 1000 veces, y suma el número de ambos dados).\n",
    "- Lleva ua cuenta de los números y las veces que la suma fue mayor a 7 o un número par.\n",
    "- Divide el número del paso 2 entre el número de iteraciones(1000)."
   ]
  },
  {
   "cell_type": "code",
   "execution_count": null,
   "id": "8939d892",
   "metadata": {},
   "outputs": [
    {
     "name": "stdout",
     "output_type": "stream",
     "text": [
      "Probabilidad estimada de obtener una suma mayor a 7 o un número par: 65.90%\n"
     ]
    }
   ],
   "source": [
    "import numpy as np\n",
    "\n",
    "# Configuración de la simulación\n",
    "num_experimentos = 1000\n",
    "np.random.seed(42)\n",
    "\n",
    "# Lanzamiento de dos dados 1000 veces\n",
    "dado_1 = np.random.randint(1, 7, num_experimentos)  \n",
    "dado_2 = np.random.randint(1, 7, num_experimentos)  \n",
    "\n",
    "# Suma de los valores obtenidos\n",
    "suma_dados = dado_1 + dado_2\n",
    "\n",
    "# Condición: suma mayor a 7 o número par\n",
    "casos_favorables = np.sum((suma_dados > 7) | (suma_dados % 2 == 0))\n",
    "\n",
    "# Probabilidad estimada\n",
    "probabilidad = (casos_favorables / num_experimentos) * 100\n",
    "\n",
    "print(f\"Probabilidad estimada de obtener una suma mayor a 7 o un número par: {probabilidad:.2f}%\")"
   ]
  },
  {
   "cell_type": "markdown",
   "id": "55732bca",
   "metadata": {},
   "source": [
    "## Ejercicio 2 \n",
    "\n",
    "Una caja contiene 10 bolas blancas, 20 bolas rojas y 30 bolas verdes. Si tomamos 5 bolas de la caja reemplazándolas (tomando una bola, anotando el color y luego regresandola a la caja). Queremos saber la probabilidad de:\n",
    "\n",
    "1. Tomar 3 blancas y 2 rojas.##\n",
    "2. Toas todas del mismo color.\n",
    "\n",
    "Ejecuta el experimento 1000 veces y calcula las probabilidades que mencionadas."
   ]
  },
  {
   "cell_type": "code",
   "execution_count": 3,
   "id": "23244d20",
   "metadata": {},
   "outputs": [
    {
     "name": "stdout",
     "output_type": "stream",
     "text": [
      "{0: 'White', 1: 'White', 2: 'White', 3: 'White', 4: 'White', 5: 'White', 6: 'White', 7: 'White', 8: 'White', 9: 'White', 10: 'Red', 11: 'Red', 12: 'Red', 13: 'Red', 14: 'Red', 15: 'Red', 16: 'Red', 17: 'Red', 18: 'Red', 19: 'Red', 20: 'Red', 21: 'Red', 22: 'Red', 23: 'Red', 24: 'Red', 25: 'Red', 26: 'Red', 27: 'Red', 28: 'Red', 29: 'Red', 30: 'Green', 31: 'Green', 32: 'Green', 33: 'Green', 34: 'Green', 35: 'Green', 36: 'Green', 37: 'Green', 38: 'Green', 39: 'Green', 40: 'Green', 41: 'Green', 42: 'Green', 43: 'Green', 44: 'Green', 45: 'Green', 46: 'Green', 47: 'Green', 48: 'Green', 49: 'Green', 50: 'Green', 51: 'Green', 52: 'Green', 53: 'Green', 54: 'Green', 55: 'Green', 56: 'Green', 57: 'Green', 58: 'Green', 59: 'Green'}\n",
      "Probabilidad de tomar 3 blancas y 2 rojas: 0.20%\n",
      "Probabilidad de tomar todas las bolas del mismo color: 3.40%\n"
     ]
    }
   ],
   "source": [
    "ball_box = {}\n",
    "\n",
    "# Crea la cajas con las bolas\n",
    "for i in range(60):\n",
    "    if i < 10:\n",
    "        ball_box[i] = \"White\"\n",
    "    elif (i > 9) and (i < 30):\n",
    "        ball_box[i] = \"Red\"\n",
    "    else:\n",
    "        ball_box[i] = \"Green\"\n",
    "\n",
    "print(ball_box)\n",
    "            \n",
    "import numpy as np\n",
    "\n",
    "# Configuración del experimento\n",
    "np.random.seed(42)\n",
    "num_experimentos = 1000\n",
    "bolas = [\"White\"] * 10 + [\"Red\"] * 20 + [\"Green\"] * 30  \n",
    "# Contadores de casos favorables\n",
    "casos_3_blancas_2_rojas = 0\n",
    "casos_mismo_color = 0\n",
    "\n",
    "# Simulación del experimento\n",
    "for _ in range(num_experimentos):\n",
    "    seleccionadas = np.random.choice(bolas, size=5, replace=True)  # Seleccionamos 5 bolas con reemplazo\n",
    "    \n",
    "    # Contar colores\n",
    "    num_blancas = np.sum(seleccionadas == \"White\")\n",
    "    num_rojas = np.sum(seleccionadas == \"Red\")\n",
    "    num_verdes = np.sum(seleccionadas == \"Green\")\n",
    "\n",
    "    # Condición 1: 3 blancas y 2 rojas\n",
    "    if num_blancas == 3 and num_rojas == 2:\n",
    "        casos_3_blancas_2_rojas += 1\n",
    "    \n",
    "    # Condición 2: Todas del mismo color\n",
    "    if num_blancas == 5 or num_rojas == 5 or num_verdes == 5:\n",
    "        casos_mismo_color += 1\n",
    "\n",
    "# Cálculo de probabilidades\n",
    "prob_3_blancas_2_rojas = (casos_3_blancas_2_rojas / num_experimentos) * 100\n",
    "prob_mismo_color = (casos_mismo_color / num_experimentos) * 100\n",
    "\n",
    "# Resultados\n",
    "print(f\"Probabilidad de tomar 3 blancas y 2 rojas: {prob_3_blancas_2_rojas:.2f}%\")\n",
    "print(f\"Probabilidad de tomar todas las bolas del mismo color: {prob_mismo_color:.2f}%\")"
   ]
  }
 ],
 "metadata": {
  "kernelspec": {
   "display_name": "Python 3",
   "language": "python",
   "name": "python3"
  },
  "language_info": {
   "codemirror_mode": {
    "name": "ipython",
    "version": 3
   },
   "file_extension": ".py",
   "mimetype": "text/x-python",
   "name": "python",
   "nbconvert_exporter": "python",
   "pygments_lexer": "ipython3",
   "version": "3.11.4"
  }
 },
 "nbformat": 4,
 "nbformat_minor": 5
}
